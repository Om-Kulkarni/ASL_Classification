{
 "cells": [
  {
   "cell_type": "code",
   "execution_count": null,
   "id": "5f9fe35b",
   "metadata": {},
   "outputs": [],
   "source": [
    "# Import libraries\n",
    "\n",
    "import numpy as np\n",
    "import pandas as pd\n",
    "import matplotlib.pyplot as plt\n",
    "from pathlib import Path\n",
    "import os.path\n",
    "\n",
    "import keras\n",
    "from keras.utils import np_utils\n",
    "from keras import utils, callbacks\n",
    "from keras.models import Sequential\n",
    "from keras.models import Model\n",
    "from keras.applications.vgg16 import VGG16\n",
    "from keras.layers.core import Flatten, Dense, Dropout\n",
    "from keras.layers.convolutional import Convolution2D, MaxPooling2D, ZeroPadding2D\n",
    "from keras.optimizers import Adam\n",
    "\n",
    "from sklearn.model_selection import train_test_split\n",
    "from tensorflow.keras.preprocessing.image import ImageDataGenerator\n",
    "\n",
    "import tensorflow as tf\n",
    "\n",
    "from sklearn.metrics import accuracy_score, f1_score\n",
    "\n",
    "import helper\n",
    "\n",
    "print(f'tensorflow version is {tf.__version__}')\n"
   ]
  },
  {
   "cell_type": "code",
   "execution_count": null,
   "id": "9ca266b6",
   "metadata": {},
   "outputs": [],
   "source": [
    "# Params\n",
    "\n",
    "classes = 29\n",
    "batch = 256\n",
    "epochs = 50\n",
    "lnr = 0.0001\n",
    "\n",
    "train_filepath = r'asl_alphabet_train/asl_alphabet_train/'"
   ]
  },
  {
   "cell_type": "code",
   "execution_count": null,
   "id": "fd78fb2a",
   "metadata": {},
   "outputs": [],
   "source": [
    "(train_img_paths, train_labels), (test_img_paths, test_img_labels) = helper.load_data()"
   ]
  },
  {
   "cell_type": "code",
   "execution_count": null,
   "id": "6a1f05a9",
   "metadata": {},
   "outputs": [],
   "source": [
    "print(f'Number of pictures: {train_labels.shape[0]}\\n')\n",
    "\n",
    "print(f'Number of different labels: {len(train_labels.unique())}\\n')\n",
    "\n",
    "print(f'Labels: {train_labels.unique()}')"
   ]
  },
  {
   "cell_type": "code",
   "execution_count": null,
   "id": "1240284a",
   "metadata": {},
   "outputs": [],
   "source": [
    "# Display 30 picture of the dataset with their labels\n",
    "\n",
    "fig, axes = plt.subplots(nrows=5, ncols=6, figsize=(15, 7),\n",
    "                        subplot_kw={'xticks': [], 'yticks': []})\n",
    "\n",
    "for i, ax in enumerate(axes.flat):\n",
    "    ax.imshow(plt.imread(train_img_paths[i]))\n",
    "    ax.set_title(train_labels[i])\n",
    "plt.tight_layout(pad=.5)\n",
    "plt.show()\n"
   ]
  },
  {
   "cell_type": "code",
   "execution_count": null,
   "id": "aad6b87c",
   "metadata": {},
   "outputs": [],
   "source": [
    "train_labels.unique()"
   ]
  },
  {
   "cell_type": "code",
   "execution_count": null,
   "id": "46108249",
   "metadata": {},
   "outputs": [],
   "source": [
    "# Build Image Data Generator for training\n",
    "# target size set to default (64,64)\n",
    "\n",
    "gen = ImageDataGenerator(rescale=1./255, \n",
    "                         rotation_range=30,\n",
    "                         shear_range=10, \n",
    "                         validation_split=0.1) \n",
    "\n",
    "train = gen.flow_from_directory(train_filepath,\n",
    "                                target_size=(256,256),\n",
    "                                color_mode='rgb',\n",
    "                                class_mode='categorical',\n",
    "                                batch_size=32,\n",
    "                                shuffle=True,\n",
    "                                seed=42,\n",
    "                                subset=\"training\")\n",
    "\n",
    "val = gen.flow_from_directory(train_filepath, \n",
    "                              target_size=(256,256),\n",
    "                              color_mode='rgb',\n",
    "                              class_mode='categorical',\n",
    "                              batch_size=32,\n",
    "                              shuffle=True,\n",
    "                              seed=42,\n",
    "                              subset=\"validation\")\n"
   ]
  },
  {
   "cell_type": "code",
   "execution_count": null,
   "id": "62a7cce2",
   "metadata": {},
   "outputs": [],
   "source": [
    "# Build a model around VGG_16\n",
    "\n",
    "adam = Adam(learning_rate=lnr)\n",
    "\n",
    "model_vgg = VGG16(weights='imagenet', include_top=False, input_shape=(256, 256, 3))\n",
    "model_vgg.trainable = False\n",
    "\n",
    "model = Sequential([\n",
    "    keras.Input(shape=(256, 256, 3)),\n",
    "    model_vgg,\n",
    "    Flatten(),\n",
    "    Dropout(0.2),\n",
    "    Dense(256, activation='relu'),\n",
    "    Dense(29, activation='softmax')\n",
    "])\n",
    "\n",
    "model.summary()"
   ]
  },
  {
   "cell_type": "code",
   "execution_count": null,
   "id": "494569e8",
   "metadata": {},
   "outputs": [],
   "source": [
    "model.compile(optimizer=adam, loss='categorical_crossentropy', metrics=['accuracy'] )"
   ]
  },
  {
   "cell_type": "code",
   "execution_count": null,
   "id": "b4a0233a",
   "metadata": {
    "scrolled": true
   },
   "outputs": [],
   "source": [
    "# Build callbacks to stop training if model worsens for 5 conscutive episodes\n",
    "\n",
    "earlystopping = callbacks.EarlyStopping(monitor=\"val_loss\", mode=\"min\", \n",
    "                                        patience=5, restore_best_weights = True)\n",
    "\n",
    "history = model.fit(train, validation_data = val, epochs=epochs, shuffle=True, verbose=1, \n",
    "                    callbacks = [earlystopping])\n"
   ]
  },
  {
   "cell_type": "code",
   "execution_count": null,
   "id": "d719d4e0",
   "metadata": {},
   "outputs": [],
   "source": []
  }
 ],
 "metadata": {
  "kernelspec": {
   "display_name": "Python 3",
   "language": "python",
   "name": "python3"
  },
  "language_info": {
   "codemirror_mode": {
    "name": "ipython",
    "version": 3
   },
   "file_extension": ".py",
   "mimetype": "text/x-python",
   "name": "python",
   "nbconvert_exporter": "python",
   "pygments_lexer": "ipython3",
   "version": "3.8.5"
  }
 },
 "nbformat": 4,
 "nbformat_minor": 5
}
